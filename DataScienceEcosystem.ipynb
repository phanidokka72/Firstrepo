{
 "cells": [
  {
   "cell_type": "markdown",
   "id": "6d351529-8421-4836-a3f4-9b545b89eea3",
   "metadata": {},
   "source": [
    "# Data Science Tools and Ecosystem"
   ]
  },
  {
   "cell_type": "markdown",
   "id": "5eb0441d-e85a-46d4-8a25-3ad6ed3eea6e",
   "metadata": {},
   "source": [
    "**Introduction**\n",
    "\n",
    "In this notebook, Data Science Tools and Ecosystem are summarized."
   ]
  },
  {
   "cell_type": "markdown",
   "id": "d80b06a9-e403-47e8-9a30-30f3ff0fc9f2",
   "metadata": {},
   "source": [
    "**Objectives:**\n",
    "\n",
    "* List popular Languages for Data Science\n",
    "* List popular Libraries for Data Science\n",
    "* List popular Tools used for Data Science\n",
    "* IBM Watson Studio Introduction\n",
    "* Watson Knowledge Catalog"
   ]
  },
  {
   "cell_type": "code",
   "execution_count": null,
   "id": "775ba8e4-ff65-43f8-b0ef-196c7f37a23b",
   "metadata": {},
   "outputs": [],
   "source": [
    "Some of the popular languages that Data Scientists use are:\n",
    "    \n",
    "    1.Python\n",
    "    2.R\n",
    "    3.SQL\n",
    "    4.SAS\n",
    "    5.Julia\n",
    "    6.JavaScript\n",
    "    7.SCALA\n",
    "    8.MATLAB"
   ]
  },
  {
   "cell_type": "markdown",
   "id": "bbe2b057-1855-46f1-99c5-f739abe0e972",
   "metadata": {},
   "source": [
    "Some of the commonly used libraries used by Data Scientists include:\n",
    "    \n",
    "* NumPy\n",
    "\n",
    "* Pandas\n",
    "\n",
    "* Matplotlib\n",
    "\n",
    "* Seaborn\n",
    "\n",
    "* Scikit-learn\n",
    "\n",
    "* TensorFlow\n",
    "\n",
    "* Keras\n",
    "\n",
    "* Pytorch\n",
    "\n",
    "* SciPy\n",
    "\n",
    "* Statsmodels"
   ]
  },
  {
   "cell_type": "code",
   "execution_count": null,
   "id": "41c1792d-063b-4c14-82d9-0ade2c6a39d7",
   "metadata": {},
   "outputs": [],
   "source": [
    "| Data Science Tools |\n",
    "| ----------------- |\n",
    "| Jupyter Notebook |\n",
    "| RStudio |\n",
    "| Apache Spark |"
   ]
  },
  {
   "cell_type": "markdown",
   "id": "f915d5f0-3d62-4509-9b03-de51834cbd17",
   "metadata": {},
   "source": [
    "### Below are a few examples of evaluating arithmetic expressions in Python"
   ]
  },
  {
   "cell_type": "code",
   "execution_count": 2,
   "id": "58a08d1b-7909-471b-8fcb-24bcb3806e3f",
   "metadata": {},
   "outputs": [
    {
     "data": {
      "text/plain": [
       "17"
      ]
     },
     "execution_count": 2,
     "metadata": {},
     "output_type": "execute_result"
    }
   ],
   "source": [
    "# This a simple arithmetic expression to mutiply then add integers\n",
    "(3*4)+5"
   ]
  },
  {
   "cell_type": "code",
   "execution_count": 6,
   "id": "c0e5f127-f2b5-4588-8082-f8c752aed3da",
   "metadata": {},
   "outputs": [
    {
     "name": "stdout",
     "output_type": "stream",
     "text": [
      "3.3333333333333335\n"
     ]
    }
   ],
   "source": [
    "# This will convert 200 minutes to hours by diving by 60\n",
    "minutes = 200\n",
    "hours = minutes / 60\n",
    "print(hours)"
   ]
  },
  {
   "cell_type": "markdown",
   "id": "e997044a-e354-4ce3-86dc-a6d8011c6077",
   "metadata": {},
   "source": [
    "## Author\n",
    "\n",
    "Srinivasa Dokka"
   ]
  }
 ],
 "metadata": {
  "kernelspec": {
   "display_name": "Python",
   "language": "python",
   "name": "conda-env-python-py"
  },
  "language_info": {
   "codemirror_mode": {
    "name": "ipython",
    "version": 3
   },
   "file_extension": ".py",
   "mimetype": "text/x-python",
   "name": "python",
   "nbconvert_exporter": "python",
   "pygments_lexer": "ipython3",
   "version": "3.7.12"
  }
 },
 "nbformat": 4,
 "nbformat_minor": 5
}
