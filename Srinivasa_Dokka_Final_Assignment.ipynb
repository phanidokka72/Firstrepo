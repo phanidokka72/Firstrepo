{
 "cells": [
  {
   "cell_type": "markdown",
   "id": "abfc22fe-1c33-4764-8636-5655dcc726ea",
   "metadata": {},
   "source": [
    "# Tools for Data Science"
   ]
  },
  {
   "cell_type": "markdown",
   "id": "36f05eaa-fa2c-4d89-8612-bcc7cd81b82c",
   "metadata": {},
   "source": [
    "**Introduction** \n",
    "\n",
    "The following document highlights the salient features of some Prominent Data Science tools."
   ]
  },
  {
   "cell_type": "markdown",
   "id": "f8e130b8-a8b0-4abb-ada4-c1340703b152",
   "metadata": {},
   "source": [
    "**List of prominent Data Science Languages**\n",
    "\n",
    "* Python\n",
    "* R\n",
    "* SQL\n",
    "* SAS\n",
    "* Julia\n",
    "* JavaScript\n",
    "* SCALA\n",
    "* MATLAB</br>\n"
   ]
  },
  {
   "cell_type": "markdown",
   "id": "98f5fa2f-0ffc-468a-aae9-12cad8bbfc8c",
   "metadata": {},
   "source": [
    "**List of prominent Data Science Libraries**\n",
    "\n",
    "* NumPy\n",
    "* Pandas\n",
    "* Matplotlib\n",
    "* Seaborn\n",
    "* Scikit-learn\n",
    "* TensorFlow\n",
    "* Keras\n",
    "* Pytorch\n",
    "* SciPy\n",
    "* Statsmodels"
   ]
  },
  {
   "cell_type": "markdown",
   "id": "67ae511e-6b44-4906-8d91-e140a931fbb3",
   "metadata": {},
   "source": [
    "**Table of prominent Data Science Tools**\n",
    "\n",
    "\n",
    "| Serial Number | Data Science Tool Name | Purpose |\n",
    "| ------------- | ------- | ---------- |\n",
    "|1| Jupyter Notebook | To create and share documents containing code, equations, visualizations and text |\n",
    "|2| RStudio | Integrated Development Environment (IDE) for R |\n",
    "|3| Tableau | Data visualization tool to create interactive dashboards, reports and charts |\n",
    "|4| Apache Hadoop | Open-Source software to store and process large datasets |\n",
    "|5| Apache Spark | Open-Source distributed computing system for processing large datasets, ML and graph processing |\n",
    "|6| SAS | A suite of analytical software products for Datamanagement, Advanced Analytics and BI |\n",
    "|7| RapidMiner | Open-Source platform for data processing, ML and predictive modeling |\n",
    "|8| Weka | Open-Source ML tool for Data preprossesing, Clustering and Visualization |\n",
    "|9| KNIME | Open-Source Data Analysis platform that allows you to create data workflows and supports data processing, ML and visualization |\n",
    "|10| Orange | Open-Source Data Analysis and visualization tool for data processing, ML, and interactive visualization |"
   ]
  },
  {
   "cell_type": "markdown",
   "id": "ddc8565b-b24b-4244-b2ca-17a35fd14eaa",
   "metadata": {},
   "source": [
    "**Introduction to Arithmatic expressions (with examples):**\n",
    "\n",
    "\n",
    "    Addition : Example : 2 + 4 = 6\n",
    "    \n",
    "    Subtraction : Example : 5 - 4 = 1\n",
    "    \n",
    "    Multiplication : Example : 4 * 5 = 20\n",
    "    \n",
    "    Division : Example : 16 / 8 = 2\n",
    "    \n",
    "All of these operations can be automated by righting simple code, right here in notebook. We will see some examples below.\n"
   ]
  },
  {
   "cell_type": "code",
   "execution_count": 1,
   "id": "7d86287d-8848-4708-b936-ab0ff05daaf4",
   "metadata": {},
   "outputs": [
    {
     "data": {
      "text/plain": [
       "16"
      ]
     },
     "execution_count": 1,
     "metadata": {},
     "output_type": "execute_result"
    }
   ],
   "source": [
    "( 3 + 5 ) * 2"
   ]
  },
  {
   "cell_type": "code",
   "execution_count": 2,
   "id": "980a8c90-f7ae-4c6b-957a-7181c16d0cfc",
   "metadata": {},
   "outputs": [
    {
     "name": "stdout",
     "output_type": "stream",
     "text": [
      "The number of hours is: 5.0\n"
     ]
    }
   ],
   "source": [
    "# Convert minutes to hours\n",
    "minutes = 300\n",
    "hours = minutes / 60\n",
    "\n",
    "print(\"The number of hours is:\", hours)"
   ]
  },
  {
   "cell_type": "markdown",
   "id": "4fc0319a-7da9-4331-90b1-c502ae7a6425",
   "metadata": {},
   "source": [
    "**Objectives**\n",
    "    \n",
    "This is an elaborate assignment that tests the student's comfort with Jupytor notebook and writing and executing simple code there. \n",
    "As part of the assignment the questions also test the student's knowledge about this unit titled \"Tools for Datascience\". \n",
    "This assignment makes sure that student recognizes and understands the major topics in this unit. \n",
    "It cleverly combines the subject knowledge and lab practice into one excellent assignment. \n"
   ]
  },
  {
   "cell_type": "markdown",
   "id": "6c3b36d9-aa8d-456f-8926-6560e5f8fc8a",
   "metadata": {},
   "source": [
    "**Author**\n",
    "\n",
    "Srinivasa Dokka"
   ]
  }
 ],
 "metadata": {
  "kernelspec": {
   "display_name": "Python",
   "language": "python",
   "name": "conda-env-python-py"
  },
  "language_info": {
   "codemirror_mode": {
    "name": "ipython",
    "version": 3
   },
   "file_extension": ".py",
   "mimetype": "text/x-python",
   "name": "python",
   "nbconvert_exporter": "python",
   "pygments_lexer": "ipython3",
   "version": "3.7.12"
  }
 },
 "nbformat": 4,
 "nbformat_minor": 5
}
