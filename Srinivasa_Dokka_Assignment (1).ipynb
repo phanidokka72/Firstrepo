{
 "cells": [
  {
   "cell_type": "code",
   "execution_count": null,
   "id": "f88af120-6ce0-405f-bce6-fe3fcd67556c",
   "metadata": {},
   "outputs": [],
   "source": [
    "# My Jupyter Notebook "
   ]
  },
  {
   "cell_type": "markdown",
   "id": "0ff68e90-4d9c-4afe-81dc-9fdfd858221c",
   "metadata": {},
   "source": [
    "**Srinivasa Dokka**<br>Chief Data Architect"
   ]
  },
  {
   "cell_type": "markdown",
   "id": "8a6497e8-3b50-4c19-bdb6-118e70493598",
   "metadata": {},
   "source": [
    "*I love playing with data and making realistic predictions.*<br>*I am very passionate about Data Science.*"
   ]
  },
  {
   "cell_type": "markdown",
   "id": "f103f391-2252-4520-aa2b-66b896d2a084",
   "metadata": {},
   "source": [
    "**The following code gives you the product of two numbers (20, 30)**"
   ]
  },
  {
   "cell_type": "code",
   "execution_count": 2,
   "id": "906310fa-2b17-4b98-9fe7-32a178d98964",
   "metadata": {},
   "outputs": [
    {
     "data": {
      "text/plain": [
       "600"
      ]
     },
     "execution_count": 2,
     "metadata": {},
     "output_type": "execute_result"
    }
   ],
   "source": [
    "20 * 30"
   ]
  },
  {
   "cell_type": "markdown",
   "id": "51ab5a87-528c-4ef1-a1fb-6d030fe12d8f",
   "metadata": {},
   "source": [
    "# My Markdown Example\n",
    "\n",
    "Here is some example text.\n",
    "\n",
    "## Bulleted List\n",
    "\n",
    "* Milk\n",
    "* Eggs\n",
    "* Bread\n",
    "\n",
    "## Numbered List\n",
    "\n",
    "1. Coffee\n",
    "2. Tea\n",
    "3. Chocolate Powder\n",
    "\n",
    "## Table\n",
    "\n",
    "| Caatlog ID | Book Name | Author |\n",
    "| -------- | -------- | -------- |\n",
    "| 123456 | Machine Learning Made Easy | Srini Dokka |\n",
    "| 234567 | Accurate Predictions | Phani Dokka |\n",
    "| 345678 | Who wins the elections? | Master Dokka |"
   ]
  },
  {
   "cell_type": "code",
   "execution_count": null,
   "id": "f42b1617-9798-4677-b598-52a025e408d1",
   "metadata": {},
   "outputs": [],
   "source": []
  }
 ],
 "metadata": {
  "kernelspec": {
   "display_name": "Python",
   "language": "python",
   "name": "conda-env-python-py"
  },
  "language_info": {
   "codemirror_mode": {
    "name": "ipython",
    "version": 3
   },
   "file_extension": ".py",
   "mimetype": "text/x-python",
   "name": "python",
   "nbconvert_exporter": "python",
   "pygments_lexer": "ipython3",
   "version": "3.7.12"
  }
 },
 "nbformat": 4,
 "nbformat_minor": 5
}
